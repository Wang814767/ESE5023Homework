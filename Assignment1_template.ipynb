{
 "cells": [
  {
   "cell_type": "markdown",
   "metadata": {},
   "source": [
    "这个单元格给助教，请忽略!\n",
    "\n",
    "### Score:\n",
    "\n",
    "### Comment: \n",
    "\n",
    "请实现每个 function 内容，确保最终提交的notebook是可以运行的。\n",
    "\n",
    "每一题除了必须要报告的 输出/图表，可以添加解释（中文即可）。此外可以自定义其他 function / 变量，自由添加单元格，但请确保题目中给出的 function （如第一题的 Print_values）可以正常调用。"
   ]
  },
  {
   "cell_type": "markdown",
   "metadata": {},
   "source": [
    "**Collaboration:**  \n",
    "\n",
    "Collaboration on solving the assignment is allowed, after you have thought about the problem sets on your own. It is also OK to get clarification (but not solutions) from online resources, again after you have thought about the problem sets on your own. \n",
    "\n",
    "There are two requirements for collaboration: \n",
    "\n",
    "* Cite your collaborators **fully and completely** (*e.g.*, \"XXX explained to me what is asked in problem set 3\"). Or cite online resources (*e.g.*, \"I got inspired by reading XXX\") that helped you.\n",
    "\n",
    "* Write your scripts and report **independently** - the scripts and report must come from you only."
   ]
  },
  {
   "cell_type": "markdown",
   "metadata": {},
   "source": [
    "# 1. Flowchart \n",
    "\n",
    "Write a function `Print_values` with arguments `a`, `b`, and `c` to reflect the following flowchart. Here the purple parallelogram operator on a list `[x, y, z]` is to compute and print `x+y-10z`. Try your output with some random `a`, `b`, and `c` values. Report your output when `a = 10, b = 5, c = 1`."
   ]
  },
  {
   "cell_type": "code",
   "execution_count": 21,
   "metadata": {},
   "outputs": [
    {
     "name": "stdout",
     "output_type": "stream",
     "text": [
      "num1:5\n",
      "num2:8\n",
      "num3:7\n",
      "[]\n",
      "the list is empty,no answers\n"
     ]
    }
   ],
   "source": [
    "def Print_values():   #define a function called Print_values\n",
    "    a = float(input(\"num1:\")) #Enter the first number\n",
    "    b = float(input(\"num2:\")) #Enter the second number\n",
    "    c = float(input(\"num3:\")) #Enter the third number\n",
    "    list = [a, b, c]   # Create a list including the three numbers\n",
    "    if a > b:\n",
    "        if b > c:\n",
    "            list = [a, b, c]  #a>b>c\n",
    "        elif b < c and a > c: \n",
    "            list = [a, c ,b]  #a>c>b\n",
    "        elif b < c and a < c: \n",
    "            list = [c, a, b]  #c>b>a\n",
    "    elif a < b:\n",
    "        if b > c and a < c:\n",
    "            list = []         #none\n",
    "        elif b < c:\n",
    "            list = [c, b, a]  #c>b>a\n",
    "    print(list)\n",
    "    if list == []:\n",
    "        print(\"the list is empty,no answers\") #if b>c>a, the list is empty, no answers\n",
    "    else:\n",
    "        print(list[0]+list[1]-10*list[2]) #compute and print x+y-10z\n",
    "Print_values()   "
   ]
  },
  {
   "cell_type": "markdown",
   "metadata": {},
   "source": [
    "Report your output when `a = 10, b = 5, c = 1`: [ Your answer ]"
   ]
  },
  {
   "cell_type": "markdown",
   "metadata": {},
   "source": [
    "[ 首先输入三个数a,b,然后通过流程图利用if语句得到最终的输出结果，在b>c>a时，输出为[],无法计算结果，因此单列出来，输出结果为\"the list is empty, no answers\" ]"
   ]
  },
  {
   "cell_type": "markdown",
   "metadata": {},
   "source": [
    "# 2. Continuous ceiling function\n",
    "\n",
    "Given a list with `N` positive integers. For every element `x` of the list, find the value of continuous ceiling function defined as `F(x) = F(ceil(x/3)) + 2x`, where `F(1) = 1`. "
   ]
  },
  {
   "cell_type": "code",
   "execution_count": 20,
   "metadata": {},
   "outputs": [
    {
     "name": "stdout",
     "output_type": "stream",
     "text": [
      "enter a positive integer:5\n",
      "[1, 2, 3, 4, 5]\n",
      "1\n",
      "5\n",
      "7\n",
      "13\n",
      "15\n"
     ]
    }
   ],
   "source": [
    "import math\n",
    "n = int(input(\"enter a positive integer:\")) # enter a positive integer\n",
    "N_list = []\n",
    "for x1 in range(1, n+1):\n",
    "    N_list.append(x1)      #create a list with N elements ranging from 1 to N\n",
    "print(N_list)              #output the list with N elements\n",
    "for x in N_list:\n",
    "    def F(x):\n",
    "        if x==1:\n",
    "            return 1   # if x=1,F(x)=1\n",
    "        else: \n",
    "            return F(math.ceil(x/3))+2*x       #if x>1,F(x)= F(ceil(x/3)) + 2x\n",
    "    print (F(x))"
   ]
  },
  {
   "cell_type": "markdown",
   "metadata": {},
   "source": [
    "[此题为迭代问题，首先创建N个正整数的List,然后给定初值F(x)=1,x=1；F(x)= F(ceil(x/3)) + 2x，x>1 ]"
   ]
  },
  {
   "cell_type": "markdown",
   "metadata": {},
   "source": [
    "# 3. Dice rolling\n",
    "\n",
    "**3.1** Given `10` dice each with `6` faces, numbered from `1` to `6`. Write a function `Find_number_of_ways` to find the number of ways to get sum `x`, defined as the sum of values on each face when all the dice are thrown."
   ]
  },
  {
   "cell_type": "code",
   "execution_count": 40,
   "metadata": {},
   "outputs": [],
   "source": [
    "def Find_number_of_ways(x):    # Define a function，x denotes the sum value\n",
    "    # Initialize a dp array where dp[i][j] represents the number of ways to get sum j using i dice\n",
    "    dp = [[0 for _ in range(x + 1)] for _ in range(11)]\n",
    "    # Base case: There is exactly one way to achieve sum 0 with 0 dice\n",
    "    dp[0][0] = 1\n",
    "    # Fill the dp table\n",
    "    for i in range(1, 11):  # For each die (1-10)\n",
    "        for j in range(1, x + 1):  # For each possible sum\n",
    "            dp[i][j] = 0\n",
    "            # Sum over all the possible face values (1 to 6) for the current die\n",
    "            for k in range(1, 7):\n",
    "                if j - k >= 0:\n",
    "                    dp[i][j] += dp[i - 1][j - k]\n",
    "    # Return the number of ways to get sum x using 10 dice\n",
    "    return dp[10][x]"
   ]
  },
  {
   "cell_type": "markdown",
   "metadata": {},
   "source": [
    "**3.2** Count the number of ways for any `x` from `10` to `60`, assign the number of ways to a list called `Number_of_ways`, so which `x` yields the maximum of `Number_of_ways`?"
   ]
  },
  {
   "cell_type": "code",
   "execution_count": 23,
   "metadata": {},
   "outputs": [
    {
     "name": "stdout",
     "output_type": "stream",
     "text": [
      "Number of ways for each sum from 10 to 60: [1, 10, 55, 220, 715, 2002, 4995, 11340, 23760, 46420, 85228, 147940, 243925, 383470, 576565, 831204, 1151370, 1535040, 1972630, 2446300, 2930455, 3393610, 3801535, 4121260, 4325310, 4395456, 4325310, 4121260, 3801535, 3393610, 2930455, 2446300, 1972630, 1535040, 1151370, 831204, 576565, 383470, 243925, 147940, 85228, 46420, 23760, 11340, 4995, 2002, 715, 220, 55, 10, 1]\n",
      "The sum 35 has the maximum number of ways, which is 4395456.\n"
     ]
    }
   ],
   "source": [
    "def Find_max_ways():\n",
    "    # List to store the number of ways to achieve each sum from 10 to 60\n",
    "    Number_of_ways = []\n",
    "    # Compute the number of ways for each sum from 10 to 60\n",
    "    for x in range(10, 61):\n",
    "        ways = Find_number_of_ways(x)\n",
    "        Number_of_ways.append(ways)\n",
    "    # Find the maximum number of ways and the corresponding sum\n",
    "    max_ways = max(Number_of_ways)\n",
    "    max_sum = Number_of_ways.index(max_ways) + 10  # Add 10 to convert index to sum\n",
    "    return Number_of_ways, max_sum, max_ways\n",
    "# Find the number of ways for each sum from 10 to 60 and the maximum sum\n",
    "Number_of_ways, max_sum, max_ways = Find_max_ways()\n",
    "print(\"Number of ways for each sum from 10 to 60:\", Number_of_ways)\n",
    "print(f\"The sum {max_sum} has the maximum number of ways, which is {max_ways}.\")"
   ]
  },
  {
   "cell_type": "markdown",
   "metadata": {},
   "source": [
    "So which `x` yields the maximum of `Number_of_ways`? [35]"
   ]
  },
  {
   "cell_type": "markdown",
   "metadata": {},
   "source": [
    "[1.建立二维的dp table，dp[i][j]表示利用i个骰子得到sum j的方法数，此题i为10。2.对dp table赋初值后建立转移方程，其思路为得到和的方法的数量是使用少一个骰子实现更小和的方法的和 dp[i][j]=dp[i−1][j−1]+dp[i−1][j−2]+⋯+dp[i−1][j−6]。3.构建Number_of_ways数组储存得到10-60之间任一和的方法数，并求取最大值]"
   ]
  },
  {
   "cell_type": "markdown",
   "metadata": {},
   "source": [
    "# 4. Dynamic programming\n",
    "\n",
    "**4.1 [5 points]** Write a function `Random_integer` to fill an array of `N` elements by randomly selecting integers from `0` to `10`."
   ]
  },
  {
   "cell_type": "code",
   "execution_count": 2,
   "metadata": {},
   "outputs": [
    {
     "name": "stdout",
     "output_type": "stream",
     "text": [
      "Enter a positive integer N:4\n"
     ]
    },
    {
     "data": {
      "text/plain": [
       "[7, 2, 10, 9]"
      ]
     },
     "execution_count": 2,
     "metadata": {},
     "output_type": "execute_result"
    }
   ],
   "source": [
    "import random\n",
    "N = int(input(\"Enter a positive integer N:\"))  # Enter a positive integer\n",
    "def Random_integer(N):\n",
    "    return [random.randint(0, 10) for _ in range(N)]   # N values range from 0 to 10\n",
    "Random_integer(N)"
   ]
  },
  {
   "cell_type": "markdown",
   "metadata": {},
   "source": [
    "4.2 [15 points] Write a function `Sum_averages` to compute the sum of the average of all subsets of the array. For example, given an array of `[1, 2, 3]`, you `Sum_averages` function should compute the sum of: average of `[1]`, average of `[2]`, average of `[3]`,  average of `[1, 2]`, average of `[1, 3]`, average of `[2, 3]`, and average of `[1, 2, 3]`.  "
   ]
  },
  {
   "cell_type": "code",
   "execution_count": 3,
   "metadata": {},
   "outputs": [
    {
     "name": "stdout",
     "output_type": "stream",
     "text": [
      "Enter a positive integer N:4\n",
      "[8, 5, 4, 4]\n",
      "[6.5, 6.0, 6.0, 4.5, 4.5, 4.0]\n",
      "[5.666666666666667, 5.666666666666667, 5.333333333333333, 4.333333333333333]\n",
      "[5.25]\n"
     ]
    },
    {
     "data": {
      "text/plain": [
       "78.74999999999999"
      ]
     },
     "execution_count": 3,
     "metadata": {},
     "output_type": "execute_result"
    }
   ],
   "source": [
    "import itertools\n",
    "from itertools import combinations\n",
    "N = int(input(\"Enter a positive integer N:\")) \n",
    "arr = Random_integer(N)   #Use this function to creatte an array\n",
    "for n in range(N):       # create arr_averages--all average values of the subsets of \"arr\"\n",
    "        if n == 0:\n",
    "            arr_averages = arr # The first case, the arr itself\n",
    "        elif n == N-1:\n",
    "            arr_averages = [sum(arr)/(N)] #the second case, the average of all the elements of arr\n",
    "        else:\n",
    "            Sum = [sum(pair) for pair in itertools.combinations(arr, n+1)] \n",
    "            arr_averages = [i/(n+1) for i in Sum]    # the third case, the average of two, three..., elemrnts of the arr\n",
    "        print(arr_averages)  # print all the subsets to make sure the sum of the average of all subsets \n",
    "def Sum_averages(arr):\n",
    "    m = len(arr) # the number of elements of arr\n",
    "    total_sum = 0\n",
    "    # Generate all non-empty subsets\n",
    "    for r in range(1,m + 1):\n",
    "        for subset in combinations(arr, r):\n",
    "            avg = sum(subset) / len(subset)  # the average values of each subset\n",
    "            total_sum += avg       #the sum of the average values of each subset\n",
    "    return total_sum\n",
    "Sum_averages(arr)"
   ]
  },
  {
   "cell_type": "markdown",
   "metadata": {},
   "source": []
  },
  {
   "cell_type": "markdown",
   "metadata": {},
   "source": [
    "**4.3 [5 points]** Call `Sum_averages` with `N` increasing from `1` to `100`, assign the output to a list called `Total_sum_averages`. Plot `Total_sum_averages`, describe what you see."
   ]
  },
  {
   "cell_type": "code",
   "execution_count": null,
   "metadata": {},
   "outputs": [],
   "source": [
    "import matplotlib.pyplot as plt\n",
    "Total_sum_averages = []      # create a list called \"Total_sum_averages\"\n",
    "for N in range(1, 101):\n",
    "    arr = Random_integer(N) # use this function to create an array of N elements by randomly selecting integers from 0 to 10.\n",
    "    total_avg_sum = Sum_averages(arr) #use this function to gain the sum of the average values of each subset\n",
    "    Total_sum_averages.append(total_avg_sum) # get all the values of the sum of the average values of each subset when N -[1,100]\n",
    "# Plotting the results\n",
    "plt.figure(figsize=(10, 6))\n",
    "plt.plot(range(1, 101), Total_sum_averages, marker='o')\n",
    "plt.xlabel('N (Size of the Array)')\n",
    "plt.ylabel('Sum of Averages of All Subsets')\n",
    "plt.title('Sum of Averages vs Array Size (N)')\n",
    "plt.grid(True)\n",
    "plt.show()"
   ]
  },
  {
   "cell_type": "markdown",
   "metadata": {},
   "source": [
    "Describe what you see. [ It shows explosive growth.呈指数爆炸性增长 ]"
   ]
  },
  {
   "cell_type": "markdown",
   "metadata": {},
   "source": [
    "[ 第一问主要是利用random.randint函数求得；第二问首先分情况找出所有的子集的平均数数组，并打印；其次求得所有子集平均数数组之和，二者去相互印证。 此过程itertools模块中的combinations 函数。第三问调用第一和第二问的函数去得到N从1到100的100组子集平均数之和，并绘图]"
   ]
  },
  {
   "cell_type": "markdown",
   "metadata": {},
   "source": [
    "# 5. Path counting\n",
    "\n",
    "**5.1 [5 points]** Create a matrix with `N` rows and `M` columns, fill the right-bottom corner and top-left corner cells with `1`, and randomly fill the rest of matrix with integer `0` or `1`."
   ]
  },
  {
   "cell_type": "code",
   "execution_count": 6,
   "metadata": {},
   "outputs": [
    {
     "name": "stdout",
     "output_type": "stream",
     "text": [
      "Enter number of rows: 4\n",
      "Enter number of columns: 4\n"
     ]
    },
    {
     "data": {
      "text/plain": [
       "array([[1, 0, 0, 1],\n",
       "       [0, 0, 1, 0],\n",
       "       [1, 1, 1, 1],\n",
       "       [0, 1, 0, 1]])"
      ]
     },
     "execution_count": 6,
     "metadata": {},
     "output_type": "execute_result"
    }
   ],
   "source": [
    "import numpy as np\n",
    "N = int(input(\"Enter number of rows: \"))\n",
    "M = int(input(\"Enter number of columns: \"))\n",
    "def create_matrix(N, M):\n",
    "    # Create a matrix with random 0s and 1s\n",
    "    matrix = np.random.randint(0, 2, size=(N, M))\n",
    "    # Set the top-left and bottom-right corners to 1\n",
    "    matrix[0, 0] = 1\n",
    "    matrix[N-1, M-1] = 1\n",
    "    return matrix\n",
    "create_matrix(N, M)"
   ]
  },
  {
   "cell_type": "markdown",
   "metadata": {},
   "source": [
    "5.2 [25 points] Consider a cell marked with 0 as a blockage or dead-end, and a cell marked with 1 is good to go. Write a function Count_path to count the total number of paths to reach the right-bottom corner cell from the top-left corner cell.\n",
    "Notice: for a given cell, you are only allowed to move either rightward or downward."
   ]
  },
  {
   "cell_type": "code",
   "execution_count": 16,
   "metadata": {},
   "outputs": [
    {
     "name": "stdout",
     "output_type": "stream",
     "text": [
      "Enter number of rows: 3\n",
      "Enter number of columns: 3\n",
      "[[1 0 1]\n",
      " [1 1 1]\n",
      " [1 1 1]]\n"
     ]
    },
    {
     "data": {
      "text/plain": [
       "3"
      ]
     },
     "execution_count": 16,
     "metadata": {},
     "output_type": "execute_result"
    }
   ],
   "source": [
    "import numpy as np\n",
    "N = int(input(\"Enter number of rows: \"))\n",
    "M = int(input(\"Enter number of columns: \"))\n",
    "matrix = create_matrix(N, M)  #use this function in 5.1 to create matrix\n",
    "print(matrix)\n",
    "def Count_path(matrix):\n",
    "    # Create a dp table to store the number of paths at each cell\n",
    "    dp = np.zeros((N, M), dtype=int)\n",
    "    # Initialize the starting point\n",
    "    if matrix[0, 0] == 1:\n",
    "        dp[0, 0] = 1\n",
    "    # Fill the dp table\n",
    "    for i in range(N):\n",
    "        for j in range(M):\n",
    "            if matrix[i, j] == 1:\n",
    "                if i > 0:\n",
    "                    dp[i, j] += dp[i - 1, j]  # Coming from above\n",
    "                if j > 0:\n",
    "                    dp[i, j] += dp[i, j - 1]  # Coming from the left\n",
    "    # The value at the bottom-right corner is the number of paths\n",
    "    return dp[N - 1, M - 1]\n",
    "    total_paths = Count_path(matrix)\n",
    "    print(total_paths)   \n",
    "Count_path(matrix)"
   ]
  },
  {
   "cell_type": "markdown",
   "metadata": {},
   "source": [
    "**5.3 [5 points]** Let `N = 10, M = 8`, run `Count_path` for `1000` times, each time the matrix (except the right-bottom corner and top-left corner cells, which remain being `1`) is re-filled with integer `0` or `1` randomly, report the mean of total number of paths from the `1000` runs."
   ]
  },
  {
   "cell_type": "code",
   "execution_count": 14,
   "metadata": {},
   "outputs": [
    {
     "data": {
      "text/plain": [
       "0.171"
      ]
     },
     "execution_count": 14,
     "metadata": {},
     "output_type": "execute_result"
    }
   ],
   "source": [
    "def simulate_count_paths(N, M, runs):\n",
    "    path_counts = []\n",
    "    for _ in range(runs):\n",
    "        # Generate a new random matrix with N rows and M columns\n",
    "        matrix = create_matrix(N, M)\n",
    "        # Count the number of paths for the generated matrix\n",
    "        total_paths = Count_path(matrix)\n",
    "        # Append the count to the results list\n",
    "        path_counts.append(total_paths)\n",
    "    # Calculate the mean of all path counts\n",
    "    mean_paths = np.mean(path_counts)\n",
    "    \n",
    "    return mean_paths\n",
    "    print(mean_paths)\n",
    "\n",
    "# N=10, M=8, and 1000 runs\n",
    "N = 10\n",
    "M = 8\n",
    "runs = 1000\n",
    "\n",
    "mean_total_paths = simulate_count_paths(N, M, runs)\n",
    "mean_total_paths\n"
   ]
  },
  {
   "cell_type": "markdown",
   "metadata": {},
   "source": [
    "Report the mean of total number of paths from the `1000` runs. [0.171]"
   ]
  },
  {
   "cell_type": "markdown",
   "metadata": {},
   "source": [
    "[ 第一问分情况为矩阵元素赋值。第二问创建 dp table,dp[i][j]存储从（0,0）到达单元格（i,j）的方法数,对其赋初值后建立转移方程，如果当前单元格（i，j）为1，则到达此单元格的方法数将为以下值之和：来自上边单元格的路径(i-1，j） 来自左侧单元格的路径（i，j-1)。第三问创建函数，调用前两个函数1000次，求得到达方法数平均值，首先建立path_counts数组来储存1000次得到的方法数，再求其平均值]"
   ]
  }
 ],
 "metadata": {
  "kernelspec": {
   "display_name": "Python 3 (ipykernel)",
   "language": "python",
   "name": "python3"
  },
  "language_info": {
   "codemirror_mode": {
    "name": "ipython",
    "version": 3
   },
   "file_extension": ".py",
   "mimetype": "text/x-python",
   "name": "python",
   "nbconvert_exporter": "python",
   "pygments_lexer": "ipython3",
   "version": "3.9.13"
  }
 },
 "nbformat": 4,
 "nbformat_minor": 2
}
